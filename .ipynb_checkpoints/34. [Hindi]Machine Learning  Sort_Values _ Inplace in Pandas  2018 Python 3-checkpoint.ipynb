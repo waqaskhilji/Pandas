{
 "cells": [
  {
   "cell_type": "code",
   "execution_count": 3,
   "metadata": {},
   "outputs": [
    {
     "name": "stdout",
     "output_type": "stream",
     "text": [
      "0                        Abdul Basit\n",
      "1                        Adeel Ahmed\n",
      "2                       Afrah Zareen\n",
      "3                     Ahmed Ali Raza\n",
      "4                    Ahsan Ali Vohra\n",
      "5                        Ameer Hamza\n",
      "6                      Anas Ali Khan\n",
      "7                   Aneebullah Niazi\n",
      "8                     Areesha Sohail\n",
      "9                            Arsalan\n",
      "10               Fatima Haider Warsi\n",
      "11                       Habib Ullah\n",
      "12               Hafiza Tooba Akbani\n",
      "13                Hamza Abdul Jabbar\n",
      "14                     Hareem Afshan\n",
      "15                      Haseeb Sajid\n",
      "16                      Hassam Ahmed\n",
      "17                      Khalid Anwer\n",
      "18                     Madiha Jabeen\n",
      "19                   Mohammad Hunain\n",
      "20                    Muhammad Aamir\n",
      "21    Muhammad Abdul Rehman Siddiqui\n",
      "22                 Muhammad Abdullah\n",
      "23                Muhammad Ali Iqbal\n",
      "24                    Muhammad Bilal\n",
      "25                    Muhammad Faraz\n",
      "26           Muhammad Ghazali Faridi\n",
      "27               Muhammad Osama Khan\n",
      "28            Muhammad Saqib Intizar\n",
      "29         Muhammad Shahroz Khurshid\n",
      "30                   Muhammad Shozab\n",
      "31             Muhammad Taha Hasnain\n",
      "32             Muhammad Wajahat Khan\n",
      "33              Muhammad Younus Baig\n",
      "34                  Nazeer Bin Zafar\n",
      "35                        Rabi Ahmed\n",
      "36                        Rida Nasim\n",
      "37                     Sadaf Nosheen\n",
      "38                  Sadaquat Rafique\n",
      "39                       Sania Iqbal\n",
      "40                       Sharif Taqi\n",
      "41                     Shariqa Ahmad\n",
      "42                     Sumbul Rehman\n",
      "43                 Syed Faizan Uddin\n",
      "44                       Syed Sohaib\n",
      "45                 Syeda Sabika Raza\n",
      "46                        Usman Khan\n",
      "47                       Waqar Ahmed\n",
      "Name: Student Name, dtype: object\n"
     ]
    }
   ],
   "source": [
    "import pandas as pd\n",
    "pokemon = pd.read_csv(\"F:\\My Training\\Machine Learning knowledge shelf\\Pandas\\Practice\\Pandas\\Datasets\\data for panda exercise.csv\",squeeze=True, usecols=[\"Student Name\"])\n",
    "print(pokemon)"
   ]
  },
  {
   "cell_type": "code",
   "execution_count": 6,
   "metadata": {},
   "outputs": [
    {
     "data": {
      "text/plain": [
       "0         Abdul Basit\n",
       "1         Adeel Ahmed\n",
       "2        Afrah Zareen\n",
       "3      Ahmed Ali Raza\n",
       "4     Ahsan Ali Vohra\n",
       "5         Ameer Hamza\n",
       "6       Anas Ali Khan\n",
       "7    Aneebullah Niazi\n",
       "8      Areesha Sohail\n",
       "9             Arsalan\n",
       "Name: Student Name, dtype: object"
      ]
     },
     "execution_count": 6,
     "metadata": {},
     "output_type": "execute_result"
    }
   ],
   "source": [
    "pokemon.sort_values().head(10)"
   ]
  },
  {
   "cell_type": "code",
   "execution_count": 7,
   "metadata": {},
   "outputs": [
    {
     "data": {
      "text/plain": [
       "47          Waqar Ahmed\n",
       "46           Usman Khan\n",
       "45    Syeda Sabika Raza\n",
       "44          Syed Sohaib\n",
       "43    Syed Faizan Uddin\n",
       "42        Sumbul Rehman\n",
       "41        Shariqa Ahmad\n",
       "40          Sharif Taqi\n",
       "39          Sania Iqbal\n",
       "38     Sadaquat Rafique\n",
       "Name: Student Name, dtype: object"
      ]
     },
     "execution_count": 7,
     "metadata": {},
     "output_type": "execute_result"
    }
   ],
   "source": [
    "pokemon.sort_values(ascending=False).head(10)"
   ]
  },
  {
   "cell_type": "code",
   "execution_count": 8,
   "metadata": {},
   "outputs": [
    {
     "data": {
      "text/plain": [
       "9             Arsalan\n",
       "8      Areesha Sohail\n",
       "7    Aneebullah Niazi\n",
       "6       Anas Ali Khan\n",
       "5         Ameer Hamza\n",
       "4     Ahsan Ali Vohra\n",
       "3      Ahmed Ali Raza\n",
       "2        Afrah Zareen\n",
       "1         Adeel Ahmed\n",
       "0         Abdul Basit\n",
       "Name: Student Name, dtype: object"
      ]
     },
     "execution_count": 8,
     "metadata": {},
     "output_type": "execute_result"
    }
   ],
   "source": [
    "pokemon.sort_values(ascending=False).tail(10)"
   ]
  },
  {
   "cell_type": "code",
   "execution_count": 12,
   "metadata": {},
   "outputs": [
    {
     "data": {
      "text/html": [
       "<div>\n",
       "<style scoped>\n",
       "    .dataframe tbody tr th:only-of-type {\n",
       "        vertical-align: middle;\n",
       "    }\n",
       "\n",
       "    .dataframe tbody tr th {\n",
       "        vertical-align: top;\n",
       "    }\n",
       "\n",
       "    .dataframe thead th {\n",
       "        text-align: right;\n",
       "    }\n",
       "</style>\n",
       "<table border=\"1\" class=\"dataframe\">\n",
       "  <thead>\n",
       "    <tr style=\"text-align: right;\">\n",
       "      <th></th>\n",
       "      <th>Student ID</th>\n",
       "      <th>Class</th>\n",
       "      <th>Study hrs</th>\n",
       "      <th>Sleeping hrs</th>\n",
       "      <th>Social Media usage hrs</th>\n",
       "      <th>Mobile Games hrs</th>\n",
       "      <th>Percantege</th>\n",
       "    </tr>\n",
       "  </thead>\n",
       "  <tbody>\n",
       "    <tr>\n",
       "      <th>0</th>\n",
       "      <td>1001</td>\n",
       "      <td>10</td>\n",
       "      <td>2</td>\n",
       "      <td>9</td>\n",
       "      <td>3</td>\n",
       "      <td>5</td>\n",
       "      <td>50</td>\n",
       "    </tr>\n",
       "    <tr>\n",
       "      <th>1</th>\n",
       "      <td>1002</td>\n",
       "      <td>10</td>\n",
       "      <td>6</td>\n",
       "      <td>8</td>\n",
       "      <td>2</td>\n",
       "      <td>0</td>\n",
       "      <td>80</td>\n",
       "    </tr>\n",
       "    <tr>\n",
       "      <th>2</th>\n",
       "      <td>1003</td>\n",
       "      <td>10</td>\n",
       "      <td>3</td>\n",
       "      <td>8</td>\n",
       "      <td>2</td>\n",
       "      <td>4</td>\n",
       "      <td>60</td>\n",
       "    </tr>\n",
       "    <tr>\n",
       "      <th>3</th>\n",
       "      <td>1004</td>\n",
       "      <td>11</td>\n",
       "      <td>0</td>\n",
       "      <td>10</td>\n",
       "      <td>1</td>\n",
       "      <td>5</td>\n",
       "      <td>45</td>\n",
       "    </tr>\n",
       "    <tr>\n",
       "      <th>4</th>\n",
       "      <td>1005</td>\n",
       "      <td>11</td>\n",
       "      <td>4</td>\n",
       "      <td>7</td>\n",
       "      <td>2</td>\n",
       "      <td>0</td>\n",
       "      <td>75</td>\n",
       "    </tr>\n",
       "    <tr>\n",
       "      <th>5</th>\n",
       "      <td>1006</td>\n",
       "      <td>11</td>\n",
       "      <td>10</td>\n",
       "      <td>7</td>\n",
       "      <td>0</td>\n",
       "      <td>0</td>\n",
       "      <td>96</td>\n",
       "    </tr>\n",
       "    <tr>\n",
       "      <th>6</th>\n",
       "      <td>1007</td>\n",
       "      <td>12</td>\n",
       "      <td>4</td>\n",
       "      <td>6</td>\n",
       "      <td>0</td>\n",
       "      <td>0</td>\n",
       "      <td>80</td>\n",
       "    </tr>\n",
       "    <tr>\n",
       "      <th>7</th>\n",
       "      <td>1008</td>\n",
       "      <td>12</td>\n",
       "      <td>10</td>\n",
       "      <td>6</td>\n",
       "      <td>2</td>\n",
       "      <td>0</td>\n",
       "      <td>90</td>\n",
       "    </tr>\n",
       "    <tr>\n",
       "      <th>8</th>\n",
       "      <td>1009</td>\n",
       "      <td>12</td>\n",
       "      <td>2</td>\n",
       "      <td>8</td>\n",
       "      <td>2</td>\n",
       "      <td>4</td>\n",
       "      <td>60</td>\n",
       "    </tr>\n",
       "    <tr>\n",
       "      <th>9</th>\n",
       "      <td>1010</td>\n",
       "      <td>12</td>\n",
       "      <td>6</td>\n",
       "      <td>9</td>\n",
       "      <td>1</td>\n",
       "      <td>0</td>\n",
       "      <td>85</td>\n",
       "    </tr>\n",
       "  </tbody>\n",
       "</table>\n",
       "</div>"
      ],
      "text/plain": [
       "   Student ID  Class  Study hrs  Sleeping hrs  Social Media usage hrs  \\\n",
       "0        1001     10          2             9                       3   \n",
       "1        1002     10          6             8                       2   \n",
       "2        1003     10          3             8                       2   \n",
       "3        1004     11          0            10                       1   \n",
       "4        1005     11          4             7                       2   \n",
       "5        1006     11         10             7                       0   \n",
       "6        1007     12          4             6                       0   \n",
       "7        1008     12         10             6                       2   \n",
       "8        1009     12          2             8                       2   \n",
       "9        1010     12          6             9                       1   \n",
       "\n",
       "   Mobile Games hrs  Percantege  \n",
       "0                 5          50  \n",
       "1                 0          80  \n",
       "2                 4          60  \n",
       "3                 5          45  \n",
       "4                 0          75  \n",
       "5                 0          96  \n",
       "6                 0          80  \n",
       "7                 0          90  \n",
       "8                 4          60  \n",
       "9                 0          85  "
      ]
     },
     "execution_count": 12,
     "metadata": {},
     "output_type": "execute_result"
    }
   ],
   "source": [
    "google = pd.read_csv(\"F:\\My Training\\Machine Learning knowledge shelf\\Pandas\\Practice\\Pandas\\Datasets\\student_results.csv\", squeeze = True)\n",
    "google.head(10)\n",
    "\n",
    "google.sort_values()"
   ]
  }
 ],
 "metadata": {
  "kernelspec": {
   "display_name": "Python 3",
   "language": "python",
   "name": "python3"
  },
  "language_info": {
   "codemirror_mode": {
    "name": "ipython",
    "version": 3
   },
   "file_extension": ".py",
   "mimetype": "text/x-python",
   "name": "python",
   "nbconvert_exporter": "python",
   "pygments_lexer": "ipython3",
   "version": "3.7.3"
  }
 },
 "nbformat": 4,
 "nbformat_minor": 2
}
