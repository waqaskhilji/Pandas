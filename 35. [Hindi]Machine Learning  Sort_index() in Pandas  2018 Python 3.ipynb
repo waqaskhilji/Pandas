{
 "cells": [
  {
   "cell_type": "code",
   "execution_count": 6,
   "metadata": {},
   "outputs": [
    {
     "name": "stdout",
     "output_type": "stream",
     "text": [
      "0                      Bulbasaur\n",
      "1                        Ivysaur\n",
      "2                       Venusaur\n",
      "3          VenusaurMega Venusaur\n",
      "4                     Charmander\n",
      "5                     Charmeleon\n",
      "6                      Charizard\n",
      "7      CharizardMega Charizard X\n",
      "8      CharizardMega Charizard Y\n",
      "9                       Squirtle\n",
      "10                     Wartortle\n",
      "11                     Blastoise\n",
      "12       BlastoiseMega Blastoise\n",
      "13                      Caterpie\n",
      "14                       Metapod\n",
      "15                    Butterfree\n",
      "16                        Weedle\n",
      "17                        Kakuna\n",
      "18                      Beedrill\n",
      "19         BeedrillMega Beedrill\n",
      "20                        Pidgey\n",
      "21                     Pidgeotto\n",
      "22                       Pidgeot\n",
      "23           PidgeotMega Pidgeot\n",
      "24                       Rattata\n",
      "25                      Raticate\n",
      "26                       Spearow\n",
      "27                        Fearow\n",
      "28                         Ekans\n",
      "29                         Arbok\n",
      "                 ...            \n",
      "770                      Sylveon\n",
      "771                     Hawlucha\n",
      "772                      Dedenne\n",
      "773                      Carbink\n",
      "774                        Goomy\n",
      "775                      Sliggoo\n",
      "776                       Goodra\n",
      "777                       Klefki\n",
      "778                     Phantump\n",
      "779                    Trevenant\n",
      "780        PumpkabooAverage Size\n",
      "781          PumpkabooSmall Size\n",
      "782          PumpkabooLarge Size\n",
      "783          PumpkabooSuper Size\n",
      "784        GourgeistAverage Size\n",
      "785          GourgeistSmall Size\n",
      "786          GourgeistLarge Size\n",
      "787          GourgeistSuper Size\n",
      "788                     Bergmite\n",
      "789                      Avalugg\n",
      "790                       Noibat\n",
      "791                      Noivern\n",
      "792                      Xerneas\n",
      "793                      Yveltal\n",
      "794             Zygarde50% Forme\n",
      "795                      Diancie\n",
      "796          DiancieMega Diancie\n",
      "797          HoopaHoopa Confined\n",
      "798           HoopaHoopa Unbound\n",
      "799                    Volcanion\n",
      "Name: Name, Length: 800, dtype: object\n"
     ]
    }
   ],
   "source": [
    "import pandas as pd\n",
    "pokemon = pd.read_csv(\"pokemon.csv\",squeeze=True,usecols=[\"Name\"])\n",
    "print(pokemon)"
   ]
  },
  {
   "cell_type": "code",
   "execution_count": 11,
   "metadata": {},
   "outputs": [
    {
     "data": {
      "text/plain": [
       "794    Zygarde50% Forme\n",
       "695            Zweilous\n",
       "46                Zubat\n",
       "631               Zorua\n",
       "632             Zoroark\n",
       "286           Zigzagoon\n",
       "707              Zekrom\n",
       "582           Zebstrika\n",
       "157              Zapdos\n",
       "367            Zangoose\n",
       "Name: Name, dtype: object"
      ]
     },
     "execution_count": 11,
     "metadata": {},
     "output_type": "execute_result"
    }
   ],
   "source": [
    "pokemon.sort_values(ascending=False,inplace=True)\n",
    "pokemon.head(10)"
   ]
  },
  {
   "cell_type": "code",
   "execution_count": 14,
   "metadata": {},
   "outputs": [
    {
     "data": {
      "text/plain": [
       "0                Bulbasaur\n",
       "1                  Ivysaur\n",
       "2                 Venusaur\n",
       "3    VenusaurMega Venusaur\n",
       "4               Charmander\n",
       "Name: Name, dtype: object"
      ]
     },
     "execution_count": 14,
     "metadata": {},
     "output_type": "execute_result"
    }
   ],
   "source": [
    "pokemon.sort_index(ascending=True).head()"
   ]
  }
 ],
 "metadata": {
  "kernelspec": {
   "display_name": "Python 3",
   "language": "python",
   "name": "python3"
  },
  "language_info": {
   "codemirror_mode": {
    "name": "ipython",
    "version": 3
   },
   "file_extension": ".py",
   "mimetype": "text/x-python",
   "name": "python",
   "nbconvert_exporter": "python",
   "pygments_lexer": "ipython3",
   "version": "3.7.3"
  }
 },
 "nbformat": 4,
 "nbformat_minor": 2
}
