{
 "cells": [
  {
   "cell_type": "code",
   "execution_count": 3,
   "metadata": {},
   "outputs": [
    {
     "name": "stdout",
     "output_type": "stream",
     "text": [
      "0                        Abdul Basit\n",
      "1                        Adeel Ahmed\n",
      "2                       Afrah Zareen\n",
      "3                     Ahmed Ali Raza\n",
      "4                    Ahsan Ali Vohra\n",
      "5                        Ameer Hamza\n",
      "6                      Anas Ali Khan\n",
      "7                   Aneebullah Niazi\n",
      "8                     Areesha Sohail\n",
      "9                            Arsalan\n",
      "10               Fatima Haider Warsi\n",
      "11                       Habib Ullah\n",
      "12               Hafiza Tooba Akbani\n",
      "13                Hamza Abdul Jabbar\n",
      "14                     Hareem Afshan\n",
      "15                      Haseeb Sajid\n",
      "16                      Hassam Ahmed\n",
      "17                      Khalid Anwer\n",
      "18                     Madiha Jabeen\n",
      "19                   Mohammad Hunain\n",
      "20                    Muhammad Aamir\n",
      "21    Muhammad Abdul Rehman Siddiqui\n",
      "22                 Muhammad Abdullah\n",
      "23                Muhammad Ali Iqbal\n",
      "24                    Muhammad Bilal\n",
      "25                    Muhammad Faraz\n",
      "26           Muhammad Ghazali Faridi\n",
      "27               Muhammad Osama Khan\n",
      "28            Muhammad Saqib Intizar\n",
      "29         Muhammad Shahroz Khurshid\n",
      "30                   Muhammad Shozab\n",
      "31             Muhammad Taha Hasnain\n",
      "32             Muhammad Wajahat Khan\n",
      "33              Muhammad Younus Baig\n",
      "34                  Nazeer Bin Zafar\n",
      "35                        Rabi Ahmed\n",
      "36                        Rida Nasim\n",
      "37                     Sadaf Nosheen\n",
      "38                  Sadaquat Rafique\n",
      "39                       Sania Iqbal\n",
      "40                       Sharif Taqi\n",
      "41                     Shariqa Ahmad\n",
      "42                     Sumbul Rehman\n",
      "43                 Syed Faizan Uddin\n",
      "44                       Syed Sohaib\n",
      "45                 Syeda Sabika Raza\n",
      "46                        Usman Khan\n",
      "47                       Waqar Ahmed\n",
      "Name: Student Name, dtype: object\n"
     ]
    }
   ],
   "source": [
    "import pandas as pd\n",
    "pokemon = pd.read_csv(\"F:\\My Training\\Machine Learning knowledge shelf\\Pandas\\Practice\\Pandas\\Datasets\\data for panda exercise.csv\",squeeze=True, usecols=[\"Student Name\"])\n",
    "print(pokemon)"
   ]
  },
  {
   "cell_type": "code",
   "execution_count": 6,
   "metadata": {},
   "outputs": [
    {
     "data": {
      "text/plain": [
       "0         Abdul Basit\n",
       "1         Adeel Ahmed\n",
       "2        Afrah Zareen\n",
       "3      Ahmed Ali Raza\n",
       "4     Ahsan Ali Vohra\n",
       "5         Ameer Hamza\n",
       "6       Anas Ali Khan\n",
       "7    Aneebullah Niazi\n",
       "8      Areesha Sohail\n",
       "9             Arsalan\n",
       "Name: Student Name, dtype: object"
      ]
     },
     "execution_count": 6,
     "metadata": {},
     "output_type": "execute_result"
    }
   ],
   "source": [
    "pokemon.sort_values().head(10)"
   ]
  },
  {
   "cell_type": "code",
   "execution_count": 7,
   "metadata": {},
   "outputs": [
    {
     "data": {
      "text/plain": [
       "47          Waqar Ahmed\n",
       "46           Usman Khan\n",
       "45    Syeda Sabika Raza\n",
       "44          Syed Sohaib\n",
       "43    Syed Faizan Uddin\n",
       "42        Sumbul Rehman\n",
       "41        Shariqa Ahmad\n",
       "40          Sharif Taqi\n",
       "39          Sania Iqbal\n",
       "38     Sadaquat Rafique\n",
       "Name: Student Name, dtype: object"
      ]
     },
     "execution_count": 7,
     "metadata": {},
     "output_type": "execute_result"
    }
   ],
   "source": [
    "pokemon.sort_values(ascending=False).head(10)"
   ]
  },
  {
   "cell_type": "code",
   "execution_count": 29,
   "metadata": {},
   "outputs": [
    {
     "data": {
      "text/plain": [
       "9             Arsalan\n",
       "8      Areesha Sohail\n",
       "7    Aneebullah Niazi\n",
       "6       Anas Ali Khan\n",
       "5         Ameer Hamza\n",
       "4     Ahsan Ali Vohra\n",
       "3      Ahmed Ali Raza\n",
       "2        Afrah Zareen\n",
       "1         Adeel Ahmed\n",
       "0         Abdul Basit\n",
       "Name: Student Name, dtype: object"
      ]
     },
     "execution_count": 29,
     "metadata": {},
     "output_type": "execute_result"
    }
   ],
   "source": [
    "pokemon.sort_values(ascending=False).tail(10)"
   ]
  },
  {
   "cell_type": "code",
   "execution_count": 41,
   "metadata": {},
   "outputs": [
    {
     "data": {
      "text/plain": [
       "9    1010\n",
       "8    1009\n",
       "7    1008\n",
       "6    1007\n",
       "5    1006\n",
       "4    1005\n",
       "3    1004\n",
       "2    1003\n",
       "1    1002\n",
       "0    1001\n",
       "Name: Student ID, dtype: int64"
      ]
     },
     "execution_count": 41,
     "metadata": {},
     "output_type": "execute_result"
    }
   ],
   "source": [
    "google = pd.read_csv(\"F:\\My Training\\Machine Learning knowledge shelf\\Pandas\\Practice\\Pandas\\Datasets\\student_results.csv\", \n",
    "                     squeeze = True, usecols=[\"Student ID\"] )\n",
    "# google = google.sort_values(ascending=False)\n",
    "# google\n",
    "\n"
   ]
  },
  {
   "cell_type": "code",
   "execution_count": 44,
   "metadata": {},
   "outputs": [
    {
     "data": {
      "text/plain": [
       "0    1001\n",
       "1    1002\n",
       "2    1003\n",
       "3    1004\n",
       "4    1005\n",
       "5    1006\n",
       "6    1007\n",
       "7    1008\n",
       "8    1009\n",
       "9    1010\n",
       "Name: Student ID, dtype: int64"
      ]
     },
     "execution_count": 44,
     "metadata": {},
     "output_type": "execute_result"
    }
   ],
   "source": [
    "google.sort_values(ascending=True,inplace=True)\n",
    "google.head(10)"
   ]
  }
 ],
 "metadata": {
  "kernelspec": {
   "display_name": "Python 3",
   "language": "python",
   "name": "python3"
  },
  "language_info": {
   "codemirror_mode": {
    "name": "ipython",
    "version": 3
   },
   "file_extension": ".py",
   "mimetype": "text/x-python",
   "name": "python",
   "nbconvert_exporter": "python",
   "pygments_lexer": "ipython3",
   "version": "3.7.3"
  }
 },
 "nbformat": 4,
 "nbformat_minor": 2
}
