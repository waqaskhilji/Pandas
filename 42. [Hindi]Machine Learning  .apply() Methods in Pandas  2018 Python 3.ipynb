{
 "cells": [
  {
   "cell_type": "code",
   "execution_count": 2,
   "metadata": {},
   "outputs": [
    {
     "data": {
      "text/plain": [
       "0       324.97\n",
       "1       329.08\n",
       "2       326.89\n",
       "3       323.68\n",
       "4       309.46\n",
       "5       307.30\n",
       "6       309.40\n",
       "7       312.08\n",
       "8       309.37\n",
       "9       311.67\n",
       "10      309.90\n",
       "11      314.55\n",
       "12      289.76\n",
       "13      290.49\n",
       "14      287.92\n",
       "15      282.13\n",
       "16      281.22\n",
       "17      283.60\n",
       "18      285.63\n",
       "19      286.50\n",
       "20      288.49\n",
       "21      289.95\n",
       "22      292.93\n",
       "23      295.90\n",
       "24      300.75\n",
       "25      301.24\n",
       "26      303.36\n",
       "27      300.87\n",
       "28      303.87\n",
       "29      301.25\n",
       "         ...  \n",
       "1228    764.23\n",
       "1229    760.00\n",
       "1230    760.60\n",
       "1231    767.00\n",
       "1232    755.25\n",
       "1233    760.52\n",
       "1234    759.80\n",
       "1235    768.24\n",
       "1236    754.83\n",
       "1237    737.03\n",
       "1238    743.10\n",
       "1239    752.90\n",
       "1240    757.34\n",
       "1241    755.80\n",
       "1242    767.23\n",
       "1243    779.02\n",
       "1244    784.35\n",
       "1245    793.34\n",
       "1246    794.01\n",
       "1247    792.92\n",
       "1248    790.29\n",
       "1249    786.27\n",
       "1250    793.27\n",
       "1251    787.10\n",
       "1252    788.58\n",
       "1253    787.28\n",
       "1254    787.66\n",
       "1255    783.20\n",
       "1256    778.92\n",
       "1257    770.41\n",
       "Name: Stock_Price, Length: 1258, dtype: float64"
      ]
     },
     "execution_count": 2,
     "metadata": {},
     "output_type": "execute_result"
    }
   ],
   "source": [
    "import pandas as pd\n",
    "google = pd.read_csv(\"Google_Stock_Price.csv\", squeeze=True)\n"
   ]
  },
  {
   "cell_type": "code",
   "execution_count": 11,
   "metadata": {},
   "outputs": [],
   "source": [
    "def classify_par(number):\n",
    "    if number < 300:\n",
    "        return \"ok\"\n",
    "    elif number >300 and number <= 650:\n",
    "        return \"Satisficatory\"\n",
    "    else:\n",
    "        return \"Incredible\"\n",
    "    "
   ]
  },
  {
   "cell_type": "code",
   "execution_count": 12,
   "metadata": {},
   "outputs": [
    {
     "data": {
      "text/plain": [
       "0       Satisficatory\n",
       "1       Satisficatory\n",
       "2       Satisficatory\n",
       "3       Satisficatory\n",
       "4       Satisficatory\n",
       "5       Satisficatory\n",
       "6       Satisficatory\n",
       "7       Satisficatory\n",
       "8       Satisficatory\n",
       "9       Satisficatory\n",
       "10      Satisficatory\n",
       "11      Satisficatory\n",
       "12                 ok\n",
       "13                 ok\n",
       "14                 ok\n",
       "15                 ok\n",
       "16                 ok\n",
       "17                 ok\n",
       "18                 ok\n",
       "19                 ok\n",
       "20                 ok\n",
       "21                 ok\n",
       "22                 ok\n",
       "23                 ok\n",
       "24      Satisficatory\n",
       "25      Satisficatory\n",
       "26      Satisficatory\n",
       "27      Satisficatory\n",
       "28      Satisficatory\n",
       "29      Satisficatory\n",
       "            ...      \n",
       "1228       Incredible\n",
       "1229       Incredible\n",
       "1230       Incredible\n",
       "1231       Incredible\n",
       "1232       Incredible\n",
       "1233       Incredible\n",
       "1234       Incredible\n",
       "1235       Incredible\n",
       "1236       Incredible\n",
       "1237       Incredible\n",
       "1238       Incredible\n",
       "1239       Incredible\n",
       "1240       Incredible\n",
       "1241       Incredible\n",
       "1242       Incredible\n",
       "1243       Incredible\n",
       "1244       Incredible\n",
       "1245       Incredible\n",
       "1246       Incredible\n",
       "1247       Incredible\n",
       "1248       Incredible\n",
       "1249       Incredible\n",
       "1250       Incredible\n",
       "1251       Incredible\n",
       "1252       Incredible\n",
       "1253       Incredible\n",
       "1254       Incredible\n",
       "1255       Incredible\n",
       "1256       Incredible\n",
       "1257       Incredible\n",
       "Name: Stock_Price, Length: 1258, dtype: object"
      ]
     },
     "execution_count": 12,
     "metadata": {},
     "output_type": "execute_result"
    }
   ],
   "source": [
    "google.apply(classify_par)"
   ]
  },
  {
   "cell_type": "code",
   "execution_count": 13,
   "metadata": {},
   "outputs": [
    {
     "data": {
      "text/plain": [
       "1253    Incredible\n",
       "1254    Incredible\n",
       "1255    Incredible\n",
       "1256    Incredible\n",
       "1257    Incredible\n",
       "Name: Stock_Price, dtype: object"
      ]
     },
     "execution_count": 13,
     "metadata": {},
     "output_type": "execute_result"
    }
   ],
   "source": [
    "google.apply(classify_par).tail()"
   ]
  }
 ],
 "metadata": {
  "kernelspec": {
   "display_name": "Python 3",
   "language": "python",
   "name": "python3"
  },
  "language_info": {
   "codemirror_mode": {
    "name": "ipython",
    "version": 3
   },
   "file_extension": ".py",
   "mimetype": "text/x-python",
   "name": "python",
   "nbconvert_exporter": "python",
   "pygments_lexer": "ipython3",
   "version": "3.7.3"
  }
 },
 "nbformat": 4,
 "nbformat_minor": 2
}
