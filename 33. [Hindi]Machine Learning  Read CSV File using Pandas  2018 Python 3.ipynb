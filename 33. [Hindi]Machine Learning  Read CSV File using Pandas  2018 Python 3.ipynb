{
 "cells": [
  {
   "cell_type": "code",
   "execution_count": 13,
   "metadata": {},
   "outputs": [
    {
     "data": {
      "text/plain": [
       "0         Abdul Basit\n",
       "1         Adeel Ahmed\n",
       "2        Afrah Zareen\n",
       "3      Ahmed Ali Raza\n",
       "4     Ahsan Ali Vohra\n",
       "5         Ameer Hamza\n",
       "6       Anas Ali Khan\n",
       "7    Aneebullah Niazi\n",
       "8      Areesha Sohail\n",
       "9             Arsalan\n",
       "Name: Student Name, dtype: object"
      ]
     },
     "execution_count": 13,
     "metadata": {},
     "output_type": "execute_result"
    }
   ],
   "source": [
    "import pandas as pd\n",
    "st_data = pd.read_csv(\"D:\\Waqas k\\My PIAIC Training\\Machine Learning knowledge shelf\\Pandas\\Datasets\\data for panda exercise.csv\",squeeze=True, usecols=[\"Student Name\"] )\n",
    "# print(st_data)\n",
    "# st_data.head()\n",
    "# st_data.head(10)"
   ]
  },
  {
   "cell_type": "code",
   "execution_count": 14,
   "metadata": {},
   "outputs": [
    {
     "data": {
      "text/plain": [
       "43    Syed Faizan Uddin\n",
       "44          Syed Sohaib\n",
       "45    Syeda Sabika Raza\n",
       "46           Usman Khan\n",
       "47          Waqar Ahmed\n",
       "Name: Student Name, dtype: object"
      ]
     },
     "execution_count": 14,
     "metadata": {},
     "output_type": "execute_result"
    }
   ],
   "source": [
    "st_data.tail()"
   ]
  },
  {
   "cell_type": "code",
   "execution_count": 15,
   "metadata": {},
   "outputs": [
    {
     "data": {
      "text/plain": [
       "38     Sadaquat Rafique\n",
       "39          Sania Iqbal\n",
       "40          Sharif Taqi\n",
       "41        Shariqa Ahmad\n",
       "42        Sumbul Rehman\n",
       "43    Syed Faizan Uddin\n",
       "44          Syed Sohaib\n",
       "45    Syeda Sabika Raza\n",
       "46           Usman Khan\n",
       "47          Waqar Ahmed\n",
       "Name: Student Name, dtype: object"
      ]
     },
     "execution_count": 15,
     "metadata": {},
     "output_type": "execute_result"
    }
   ],
   "source": [
    "st_data.tail(10)"
   ]
  },
  {
   "cell_type": "code",
   "execution_count": 16,
   "metadata": {},
   "outputs": [
    {
     "data": {
      "text/plain": [
       "array(['Abdul Basit', 'Adeel Ahmed', 'Afrah Zareen', 'Ahmed Ali Raza',\n",
       "       'Ahsan Ali Vohra', 'Ameer Hamza', 'Anas Ali Khan',\n",
       "       'Aneebullah Niazi', 'Areesha Sohail', 'Arsalan',\n",
       "       'Fatima Haider Warsi', 'Habib Ullah', 'Hafiza Tooba Akbani',\n",
       "       'Hamza Abdul Jabbar', 'Hareem Afshan', 'Haseeb Sajid',\n",
       "       'Hassam Ahmed', 'Khalid Anwer', 'Madiha Jabeen', 'Mohammad Hunain',\n",
       "       'Muhammad Aamir', 'Muhammad Abdul Rehman Siddiqui',\n",
       "       'Muhammad Abdullah', 'Muhammad Ali Iqbal', 'Muhammad Bilal',\n",
       "       'Muhammad Faraz', 'Muhammad Ghazali Faridi', 'Muhammad Osama Khan',\n",
       "       'Muhammad Saqib Intizar', 'Muhammad Shahroz Khurshid',\n",
       "       'Muhammad Shozab', 'Muhammad Taha Hasnain',\n",
       "       'Muhammad Wajahat Khan', 'Muhammad Younus Baig',\n",
       "       'Nazeer Bin Zafar', 'Rabi Ahmed', 'Rida Nasim', 'Sadaf Nosheen',\n",
       "       'Sadaquat Rafique', 'Sania Iqbal', 'Sharif Taqi', 'Shariqa Ahmad',\n",
       "       'Sumbul Rehman', 'Syed Faizan Uddin', 'Syed Sohaib',\n",
       "       'Syeda Sabika Raza', 'Usman Khan', 'Waqar Ahmed'], dtype=object)"
      ]
     },
     "execution_count": 16,
     "metadata": {},
     "output_type": "execute_result"
    }
   ],
   "source": [
    "st_data.values"
   ]
  },
  {
   "cell_type": "code",
   "execution_count": 17,
   "metadata": {},
   "outputs": [
    {
     "data": {
      "text/plain": [
       "RangeIndex(start=0, stop=48, step=1)"
      ]
     },
     "execution_count": 17,
     "metadata": {},
     "output_type": "execute_result"
    }
   ],
   "source": [
    "st_data.index"
   ]
  },
  {
   "cell_type": "code",
   "execution_count": 19,
   "metadata": {},
   "outputs": [
    {
     "data": {
      "text/plain": [
       "True"
      ]
     },
     "execution_count": 19,
     "metadata": {},
     "output_type": "execute_result"
    }
   ],
   "source": [
    "st_data.is_unique"
   ]
  },
  {
   "cell_type": "code",
   "execution_count": 20,
   "metadata": {},
   "outputs": [
    {
     "data": {
      "text/plain": [
       "1"
      ]
     },
     "execution_count": 20,
     "metadata": {},
     "output_type": "execute_result"
    }
   ],
   "source": [
    "st_data.ndim"
   ]
  },
  {
   "cell_type": "code",
   "execution_count": 21,
   "metadata": {},
   "outputs": [
    {
     "data": {
      "text/plain": [
       "(48,)"
      ]
     },
     "execution_count": 21,
     "metadata": {},
     "output_type": "execute_result"
    }
   ],
   "source": [
    "st_data.shape"
   ]
  },
  {
   "cell_type": "code",
   "execution_count": 22,
   "metadata": {},
   "outputs": [
    {
     "data": {
      "text/plain": [
       "48"
      ]
     },
     "execution_count": 22,
     "metadata": {},
     "output_type": "execute_result"
    }
   ],
   "source": [
    "st_data.size"
   ]
  },
  {
   "cell_type": "code",
   "execution_count": 25,
   "metadata": {},
   "outputs": [
    {
     "data": {
      "text/plain": [
       "0        Abdul Basit\n",
       "1        Adeel Ahmed\n",
       "2       Afrah Zareen\n",
       "3     Ahmed Ali Raza\n",
       "4    Ahsan Ali Vohra\n",
       "Name: St_name, dtype: object"
      ]
     },
     "execution_count": 25,
     "metadata": {},
     "output_type": "execute_result"
    }
   ],
   "source": [
    "st_data.name\n",
    "st_data.name = \"St_name\"\n",
    "st_data.head()"
   ]
  }
 ],
 "metadata": {
  "kernelspec": {
   "display_name": "Python 3",
   "language": "python",
   "name": "python3"
  },
  "language_info": {
   "codemirror_mode": {
    "name": "ipython",
    "version": 3
   },
   "file_extension": ".py",
   "mimetype": "text/x-python",
   "name": "python",
   "nbconvert_exporter": "python",
   "pygments_lexer": "ipython3",
   "version": "3.7.3"
  }
 },
 "nbformat": 4,
 "nbformat_minor": 2
}
